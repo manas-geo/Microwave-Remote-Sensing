{
 "cells": [
  {
   "cell_type": "code",
   "execution_count": 1,
   "id": "cc82d99e-b995-45c8-b488-16c9a7c258b8",
   "metadata": {},
   "outputs": [
    {
     "name": "stdout",
     "output_type": "stream",
     "text": [
      "6\n"
     ]
    },
    {
     "data": {
      "text/plain": [
       "int"
      ]
     },
     "execution_count": 1,
     "metadata": {},
     "output_type": "execute_result"
    }
   ],
   "source": [
    "#Data Types\n",
    "I = 5\n",
    "print(I+1)\n",
    "type(I)"
   ]
  },
  {
   "cell_type": "code",
   "execution_count": 3,
   "id": "97cdec18-5f79-4be7-8a09-6ba5cc3d7460",
   "metadata": {},
   "outputs": [
    {
     "name": "stdout",
     "output_type": "stream",
     "text": [
      "6.9\n"
     ]
    },
    {
     "data": {
      "text/plain": [
       "float"
      ]
     },
     "execution_count": 3,
     "metadata": {},
     "output_type": "execute_result"
    }
   ],
   "source": [
    "I = 5.9\n",
    "print(I+1)\n",
    "type(I)"
   ]
  },
  {
   "cell_type": "code",
   "execution_count": 5,
   "id": "f36c683a-e94e-431f-b279-7325fc7f6e46",
   "metadata": {},
   "outputs": [
    {
     "name": "stdout",
     "output_type": "stream",
     "text": [
      "Manas Utthasini\n"
     ]
    },
    {
     "data": {
      "text/plain": [
       "str"
      ]
     },
     "execution_count": 5,
     "metadata": {},
     "output_type": "execute_result"
    }
   ],
   "source": [
    "first_name = \"Manas\"\n",
    "second_name = \" Utthasini\"\n",
    "print(first_name+second_name)\n",
    "type(first_name)"
   ]
  },
  {
   "cell_type": "code",
   "execution_count": 7,
   "id": "bfe0374e-041f-4883-b228-92a308a1a02e",
   "metadata": {},
   "outputs": [
    {
     "name": "stdout",
     "output_type": "stream",
     "text": [
      "apple\n",
      "peach\n",
      "['banana', 'peach']\n"
     ]
    }
   ],
   "source": [
    "#containers\n",
    "#data structures\n",
    "#Lists\n",
    "fruits = ['apple', 'orange', 'banana','peach']\n",
    "fruits\n",
    "g = [1,1.2,'manas']\n",
    "\n",
    "\n",
    "print(fruits[0])\n",
    "print(fruits[-1])\n",
    "print(fruits[2:4])\n"
   ]
  },
  {
   "cell_type": "code",
   "execution_count": 9,
   "id": "70fde356-04fb-4791-a094-42e621d5e6f0",
   "metadata": {},
   "outputs": [
    {
     "data": {
      "text/plain": [
       "[10,\n",
       " 11,\n",
       " 12,\n",
       " 13,\n",
       " 14,\n",
       " 15,\n",
       " 16,\n",
       " 17,\n",
       " 18,\n",
       " 19,\n",
       " 20,\n",
       " 21,\n",
       " 22,\n",
       " 23,\n",
       " 24,\n",
       " 25,\n",
       " 26,\n",
       " 27,\n",
       " 28,\n",
       " 29,\n",
       " 30,\n",
       " 31,\n",
       " 32,\n",
       " 33,\n",
       " 34,\n",
       " 35,\n",
       " 36,\n",
       " 37,\n",
       " 38,\n",
       " 39,\n",
       " 40,\n",
       " 41,\n",
       " 42,\n",
       " 43,\n",
       " 44,\n",
       " 45,\n",
       " 46,\n",
       " 47,\n",
       " 48,\n",
       " 49,\n",
       " 50,\n",
       " 51,\n",
       " 52,\n",
       " 53,\n",
       " 54,\n",
       " 55,\n",
       " 56,\n",
       " 57,\n",
       " 58,\n",
       " 59,\n",
       " 60,\n",
       " 61,\n",
       " 62,\n",
       " 63,\n",
       " 64,\n",
       " 65,\n",
       " 66,\n",
       " 67,\n",
       " 68,\n",
       " 69,\n",
       " 70,\n",
       " 71,\n",
       " 72,\n",
       " 73,\n",
       " 74,\n",
       " 75,\n",
       " 76,\n",
       " 77,\n",
       " 78,\n",
       " 79,\n",
       " 80,\n",
       " 81,\n",
       " 82,\n",
       " 83,\n",
       " 84,\n",
       " 85,\n",
       " 86,\n",
       " 87,\n",
       " 88,\n",
       " 89,\n",
       " 90,\n",
       " 91,\n",
       " 92,\n",
       " 93,\n",
       " 94,\n",
       " 95,\n",
       " 96,\n",
       " 97,\n",
       " 98,\n",
       " 99]"
      ]
     },
     "execution_count": 9,
     "metadata": {},
     "output_type": "execute_result"
    }
   ],
   "source": [
    "#create a list of numbers from  1 to n using the function 'range'\n",
    "list(range(10,100))"
   ]
  },
  {
   "cell_type": "code",
   "execution_count": 11,
   "id": "7fb44181-4699-4832-ac58-8a7f332ee4ce",
   "metadata": {},
   "outputs": [
    {
     "name": "stdout",
     "output_type": "stream",
     "text": [
      "('kolkata', 'darjeeling', 2)\n"
     ]
    }
   ],
   "source": [
    "#Tuples  sequence of values which can't modified\n",
    "mycity = ('kolkata','darjeeling',2)\n",
    "print(mycity)"
   ]
  },
  {
   "cell_type": "code",
   "execution_count": 13,
   "id": "e49a75f2-df23-4827-a993-016f8049b020",
   "metadata": {},
   "outputs": [
    {
     "ename": "SyntaxError",
     "evalue": "cannot assign to function call here. Maybe you meant '==' instead of '='? (3952633725.py, line 1)",
     "output_type": "error",
     "traceback": [
      "\u001b[1;36m  Cell \u001b[1;32mIn[13], line 1\u001b[1;36m\u001b[0m\n\u001b[1;33m    mycity(1) = 'howrah'\u001b[0m\n\u001b[1;37m    ^\u001b[0m\n\u001b[1;31mSyntaxError\u001b[0m\u001b[1;31m:\u001b[0m cannot assign to function call here. Maybe you meant '==' instead of '='?\n"
     ]
    }
   ],
   "source": [
    "mycity(1) = 'howrah'"
   ]
  },
  {
   "cell_type": "code",
   "execution_count": 15,
   "id": "45660dff-67ad-4561-b4a6-c7d3daa88b10",
   "metadata": {},
   "outputs": [],
   "source": [
    "#Disctionaries\n",
    "car = {'name' : ['marcedes benz', 'BMW'], 'model' : 432, 'color' : 'Blue'}"
   ]
  },
  {
   "cell_type": "code",
   "execution_count": 17,
   "id": "1b7666ef-5cd8-488d-b93f-a505de277bba",
   "metadata": {},
   "outputs": [
    {
     "name": "stdout",
     "output_type": "stream",
     "text": [
      "['marcedes benz', 'BMW']\n",
      "432\n"
     ]
    }
   ],
   "source": [
    "print(car['name'])\n",
    "print(car['model'])"
   ]
  },
  {
   "cell_type": "code",
   "execution_count": 19,
   "id": "779bc069-7bf9-4f19-ac82-70291f75140e",
   "metadata": {},
   "outputs": [
    {
     "name": "stdout",
     "output_type": "stream",
     "text": [
      "False\n",
      "True\n"
     ]
    }
   ],
   "source": [
    "#Boolean\n",
    "print(10>5 and 5>6)\n",
    "print(10>5 or 5>6)"
   ]
  },
  {
   "cell_type": "code",
   "execution_count": 25,
   "id": "a165840b-89c3-48b0-b2f2-3650a1debb1b",
   "metadata": {},
   "outputs": [
    {
     "name": "stdin",
     "output_type": "stream",
     "text": [
      "enter first number : 7\n",
      "enter second number : 8\n"
     ]
    }
   ],
   "source": [
    "#Conditional statements\n",
    "a = int(input('enter first number :'))\n",
    "b = int(input('enter second number :'))"
   ]
  },
  {
   "cell_type": "code",
   "execution_count": 63,
   "id": "b100abe3-9399-4466-8a05-a0bc01c854bc",
   "metadata": {},
   "outputs": [
    {
     "name": "stdout",
     "output_type": "stream",
     "text": [
      "5 is equal to 5\n"
     ]
    }
   ],
   "source": [
    "if a>b:\n",
    "    print(a, 'is greater than',b)\n",
    "elif a==b:\n",
    "    print(a,'is equal to',b)\n",
    "else:\n",
    "    print(a, 'is less than',b)\n"
   ]
  },
  {
   "cell_type": "code",
   "execution_count": 73,
   "id": "9b2caea0-89ce-48d6-82f2-1fc2a691bc1a",
   "metadata": {},
   "outputs": [
    {
     "name": "stdout",
     "output_type": "stream",
     "text": [
      "1\n",
      "2\n",
      "3\n",
      "4\n",
      "5\n",
      "6\n",
      "7\n",
      "8\n",
      "9\n",
      "10\n"
     ]
    }
   ],
   "source": [
    "#loops\n",
    "for i in range(1,11):\n",
    "    print(i)"
   ]
  },
  {
   "cell_type": "code",
   "execution_count": 1,
   "id": "9926e572-acd2-4d53-b796-72857c2899e6",
   "metadata": {},
   "outputs": [
    {
     "name": "stdout",
     "output_type": "stream",
     "text": [
      "1\n",
      "2\n",
      "3\n",
      "4\n",
      "5\n",
      "6\n",
      "7\n",
      "8\n",
      "9\n",
      "10\n"
     ]
    }
   ],
   "source": [
    "#while loop\n",
    "i=1\n",
    "while i<11:\n",
    "    print(i)\n",
    "    i = i+1"
   ]
  },
  {
   "cell_type": "code",
   "execution_count": 7,
   "id": "5cc32c6a-8e6b-4f42-ad9d-5e232a12da32",
   "metadata": {},
   "outputs": [
    {
     "name": "stdout",
     "output_type": "stream",
     "text": [
      "+++++++++++++++loop using break++++++++++++++++\n",
      "1\n",
      "2\n",
      "+++++++++++++++loop using continue++++++++++++++++\n",
      "1\n",
      "2\n",
      "4\n",
      "5\n",
      "7\n",
      "8\n",
      "10\n"
     ]
    }
   ],
   "source": [
    "#loops using break and continue\n",
    "print('+++++++++++++++loop using break++++++++++++++++')\n",
    "for i in range(1,11):\n",
    "    if i%3 == 0:\n",
    "      break\n",
    "    else:\n",
    "        print(i)\n",
    "print('+++++++++++++++loop using continue++++++++++++++++')\n",
    "for i in range(1,11):\n",
    "    if i%3 == 0:\n",
    "      continue\n",
    "    else:\n",
    "        print(i)"
   ]
  },
  {
   "cell_type": "code",
   "execution_count": 9,
   "id": "19fe4990-6ef8-4013-8eaa-ade47d7203f8",
   "metadata": {},
   "outputs": [
    {
     "name": "stdin",
     "output_type": "stream",
     "text": [
      "enter a :  5\n",
      "enter b :  8\n"
     ]
    },
    {
     "data": {
      "text/plain": [
       "13"
      ]
     },
     "execution_count": 9,
     "metadata": {},
     "output_type": "execute_result"
    }
   ],
   "source": [
    "#functions\n",
    "def add(a,b):\n",
    "    return a+b\n",
    "a = int(input('enter a : '))\n",
    "b = int(input('enter b : '))\n",
    "add(a,b)"
   ]
  },
  {
   "cell_type": "code",
   "execution_count": 15,
   "id": "fd718963-fe52-4b1f-97b2-14235cad0ade",
   "metadata": {},
   "outputs": [],
   "source": [
    "def man_range(start,stop,step):\n",
    "    mylist = []\n",
    "    while start<stop:\n",
    "        mylist.append(start)\n",
    "        start+=step\n",
    "    return mylist"
   ]
  },
  {
   "cell_type": "code",
   "execution_count": 19,
   "id": "086f48cc-03fd-46b6-aff3-9e46c3b684ce",
   "metadata": {},
   "outputs": [
    {
     "name": "stdout",
     "output_type": "stream",
     "text": [
      "[10, 12, 14, 16, 18]\n"
     ]
    }
   ],
   "source": [
    "print(man_range(10,20,2))"
   ]
  },
  {
   "cell_type": "code",
   "execution_count": 21,
   "id": "dba34d87-4bb6-4544-8d01-6bc8cc8aa5dd",
   "metadata": {},
   "outputs": [
    {
     "data": {
      "text/plain": [
       "[10, 12, 14, 16, 18]"
      ]
     },
     "execution_count": 21,
     "metadata": {},
     "output_type": "execute_result"
    }
   ],
   "source": [
    "list(range(10,20,2))"
   ]
  },
  {
   "cell_type": "code",
   "execution_count": 23,
   "id": "cd3fd646-c321-45d6-83f9-362a65fc0ecc",
   "metadata": {},
   "outputs": [],
   "source": [
    "#Vector operations in python\n",
    "#Importing module into environment\n",
    "import numpy as np"
   ]
  },
  {
   "cell_type": "code",
   "execution_count": 25,
   "id": "c481f269-98b7-4252-b2f3-667500207e7c",
   "metadata": {},
   "outputs": [],
   "source": [
    "arr = np.array([10,20,30,40,50,60,70,80])"
   ]
  },
  {
   "cell_type": "code",
   "execution_count": 27,
   "id": "e2cd74e3-5045-447f-9224-8ca15fbf0191",
   "metadata": {},
   "outputs": [
    {
     "data": {
      "text/plain": [
       "(8,)"
      ]
     },
     "execution_count": 27,
     "metadata": {},
     "output_type": "execute_result"
    }
   ],
   "source": [
    "#to check dimentionb of array\n",
    "arr.shape"
   ]
  },
  {
   "cell_type": "code",
   "execution_count": 29,
   "id": "15473c5d-7222-4e82-9ca6-9dce3d197d87",
   "metadata": {},
   "outputs": [
    {
     "data": {
      "text/plain": [
       "array([60, 70, 80])"
      ]
     },
     "execution_count": 29,
     "metadata": {},
     "output_type": "execute_result"
    }
   ],
   "source": [
    "#can query in arrays for example..........\n",
    "arr[arr>50]"
   ]
  },
  {
   "cell_type": "code",
   "execution_count": 37,
   "id": "cc693ab9-b0dc-4940-a3f3-322f453d0781",
   "metadata": {},
   "outputs": [],
   "source": [
    "#arrithmatic operations\n",
    "a= np.arange(12)\n",
    "b= np.arange(10,22)"
   ]
  },
  {
   "cell_type": "code",
   "execution_count": 39,
   "id": "590bf5e0-e02d-4273-8ffa-48493a14a8a3",
   "metadata": {},
   "outputs": [
    {
     "name": "stdout",
     "output_type": "stream",
     "text": [
      "[ 0  1  2  3  4  5  6  7  8  9 10 11] [10 11 12 13 14 15 16 17 18 19 20 21]\n"
     ]
    }
   ],
   "source": [
    "print(a,b)"
   ]
  },
  {
   "cell_type": "code",
   "execution_count": 41,
   "id": "bee3cbc3-d6dc-490a-b3cc-a93c16ec87c6",
   "metadata": {},
   "outputs": [
    {
     "name": "stdout",
     "output_type": "stream",
     "text": [
      "[10 12 14 16 18 20 22 24 26 28 30 32]\n"
     ]
    }
   ],
   "source": [
    "print(np.add(a,b))"
   ]
  },
  {
   "cell_type": "code",
   "execution_count": 43,
   "id": "b0c5ab5e-f4df-45c0-950d-73d06fb548d7",
   "metadata": {},
   "outputs": [
    {
     "name": "stdout",
     "output_type": "stream",
     "text": [
      "[-10 -10 -10 -10 -10 -10 -10 -10 -10 -10 -10 -10]\n"
     ]
    }
   ],
   "source": [
    "print(np.subtract(a,b))"
   ]
  },
  {
   "cell_type": "code",
   "execution_count": 45,
   "id": "2db9a90d-dde2-4067-b12c-9208a5edb19c",
   "metadata": {},
   "outputs": [
    {
     "name": "stdout",
     "output_type": "stream",
     "text": [
      "[  0  11  24  39  56  75  96 119 144 171 200 231]\n"
     ]
    }
   ],
   "source": [
    "print(np.multiply(a,b))"
   ]
  },
  {
   "cell_type": "code",
   "execution_count": 47,
   "id": "47c5f72a-447a-4444-9a62-fddcb627af61",
   "metadata": {},
   "outputs": [
    {
     "name": "stdout",
     "output_type": "stream",
     "text": [
      "[0.         0.09090909 0.16666667 0.23076923 0.28571429 0.33333333\n",
      " 0.375      0.41176471 0.44444444 0.47368421 0.5        0.52380952]\n"
     ]
    }
   ],
   "source": [
    "print(np.divide(a,b))"
   ]
  },
  {
   "cell_type": "code",
   "execution_count": 49,
   "id": "1609af25-213f-4bb6-8329-a6ff595fc76b",
   "metadata": {},
   "outputs": [
    {
     "data": {
      "text/plain": [
       "array([10, 12, 14, 16, 18, 20, 22, 24, 26, 28, 30, 32])"
      ]
     },
     "execution_count": 49,
     "metadata": {},
     "output_type": "execute_result"
    }
   ],
   "source": [
    "np.add(a,b)"
   ]
  },
  {
   "cell_type": "code",
   "execution_count": 55,
   "id": "6946d0ac-2c98-4257-a52b-0012321813d6",
   "metadata": {},
   "outputs": [
    {
     "data": {
      "text/plain": [
       "array([[ 13,  24,  35],\n",
       "       [435,  34,  43],\n",
       "       [ 33,  44, 321]])"
      ]
     },
     "execution_count": 55,
     "metadata": {},
     "output_type": "execute_result"
    }
   ],
   "source": [
    "#multidimentional arrays\n",
    "m = np.array([[13,24,35],[435,34,43],[33,44,321]])\n",
    "m"
   ]
  },
  {
   "cell_type": "code",
   "execution_count": 59,
   "id": "6725eb8d-5012-4e43-9d70-c729c3026ac3",
   "metadata": {},
   "outputs": [
    {
     "data": {
      "text/plain": [
       "array([[0, 1, 2],\n",
       "       [3, 4, 5],\n",
       "       [6, 7, 8]])"
      ]
     },
     "execution_count": 59,
     "metadata": {},
     "output_type": "execute_result"
    }
   ],
   "source": [
    "a = np.arange(9).reshape(3,3)\n",
    "a"
   ]
  },
  {
   "cell_type": "code",
   "execution_count": 61,
   "id": "9f059c47-19b5-4db8-a448-e7d95bd5e5b9",
   "metadata": {},
   "outputs": [
    {
     "data": {
      "text/plain": [
       "array([[ 13,  25,  37],\n",
       "       [438,  38,  48],\n",
       "       [ 39,  51, 329]])"
      ]
     },
     "execution_count": 61,
     "metadata": {},
     "output_type": "execute_result"
    }
   ],
   "source": [
    "#let us try out basic arrithmatic operations\n",
    "np.add(a,m)"
   ]
  },
  {
   "cell_type": "code",
   "execution_count": 65,
   "id": "2b215d4b-9a5d-4067-a94c-013e815b7c1d",
   "metadata": {},
   "outputs": [
    {
     "data": {
      "text/plain": [
       "array([[ -13,  -23,  -33],\n",
       "       [-432,  -30,  -38],\n",
       "       [ -27,  -37, -313]])"
      ]
     },
     "execution_count": 65,
     "metadata": {},
     "output_type": "execute_result"
    }
   ],
   "source": [
    "np.subtract(a,m)"
   ]
  },
  {
   "cell_type": "code",
   "execution_count": 67,
   "id": "98811c47-87ad-414a-a742-b89a20333927",
   "metadata": {},
   "outputs": [
    {
     "data": {
      "text/plain": [
       "array([[   0,   24,   70],\n",
       "       [1305,  136,  215],\n",
       "       [ 198,  308, 2568]])"
      ]
     },
     "execution_count": 67,
     "metadata": {},
     "output_type": "execute_result"
    }
   ],
   "source": [
    "np.multiply(a,m)"
   ]
  },
  {
   "cell_type": "code",
   "execution_count": 71,
   "id": "8d7f82db-059f-4c45-b00e-8a39d1608970",
   "metadata": {},
   "outputs": [
    {
     "data": {
      "text/plain": [
       "array([[0.        , 0.04166667, 0.05714286],\n",
       "       [0.00689655, 0.11764706, 0.11627907],\n",
       "       [0.18181818, 0.15909091, 0.02492212]])"
      ]
     },
     "execution_count": 71,
     "metadata": {},
     "output_type": "execute_result"
    }
   ],
   "source": [
    "np.divide(a,m)"
   ]
  },
  {
   "cell_type": "code",
   "execution_count": 73,
   "id": "d6066149-2ad6-49d7-a9f1-593de8c82f8b",
   "metadata": {},
   "outputs": [
    {
     "data": {
      "text/plain": [
       "array([[-3.51150600e-03,  2.39912691e-03,  6.14961148e-05],\n",
       "       [ 5.37958671e-02, -1.17465364e-03, -5.70824064e-03],\n",
       "       [-7.01289239e-03, -8.56275017e-05,  3.89138074e-03]])"
      ]
     },
     "execution_count": 73,
     "metadata": {},
     "output_type": "execute_result"
    }
   ],
   "source": [
    "#calculate inverse of a matrix\n",
    "np.linalg.inv(m)"
   ]
  }
 ],
 "metadata": {
  "kernelspec": {
   "display_name": "Python [conda env:.conda-manas]",
   "language": "python",
   "name": "conda-env-.conda-manas-py"
  },
  "language_info": {
   "codemirror_mode": {
    "name": "ipython",
    "version": 3
   },
   "file_extension": ".py",
   "mimetype": "text/x-python",
   "name": "python",
   "nbconvert_exporter": "python",
   "pygments_lexer": "ipython3",
   "version": "3.12.1"
  }
 },
 "nbformat": 4,
 "nbformat_minor": 5
}
